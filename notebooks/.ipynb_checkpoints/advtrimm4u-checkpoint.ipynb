{
 "cells": [
  {
   "cell_type": "code",
   "execution_count": null,
   "id": "25f6aad1",
   "metadata": {},
   "outputs": [],
   "source": [
    "using TensorSimplexTests"
   ]
  },
  {
   "cell_type": "code",
   "execution_count": null,
   "id": "1835d89f",
   "metadata": {},
   "outputs": [
    {
     "data": {
      "text/plain": [
       "AdvectionDriver{2}(4, 4, 0.05, 10, CLOUD.SpatialDiscretizations.NodalMulti(4), NodesAndModes.Tri(), CLOUD.Solvers.SplitConservationForm{CLOUD.Solvers.SkewSymmetricMapping, CLOUD.ConservationLaws.NoTwoPointFlux}(CLOUD.Solvers.SkewSymmetricMapping(), CLOUD.ConservationLaws.LaxFriedrichsNumericalFlux(1.0), CLOUD.ConservationLaws.BR1(), CLOUD.ConservationLaws.NoTwoPointFlux()), CarpenterKennedy2N54(stage_limiter! = trivial_limiter!, step_limiter! = trivial_limiter!, thread = static(false), williamson_condition = true), CLOUD.Solvers.CholeskySolver(), \"../results/NodalMulti_Tri_SkewSymmetricMapping_p4/upwind/\", 4, 1.0, 1.0, (1.0, 1.0), 1.0, 0.05, 2, false, false)"
      ]
     },
     "execution_count": 20,
     "metadata": {},
     "output_type": "execute_result"
    }
   ],
   "source": [
    "run_driver(AdvectionDriver(4, \n",
    "    l=3, C_t=0.05, n_s = 10, mesh_perturb = 0.05, M0 = 2, n_grids=2,\n",
    "    form = \"SplitConservationForm\", \n",
    "    mapping_form=\"SkewSymmetricMapping\",\n",
    "    scheme=\"NodalMulti\", element_type=\"Tri\"))"
   ]
  }
 ],
 "metadata": {
  "kernelspec": {
   "display_name": "Julia 1.8.5",
   "language": "julia",
   "name": "julia-1.8"
  },
  "language_info": {
   "file_extension": ".jl",
   "mimetype": "application/julia",
   "name": "julia",
   "version": "1.8.5"
  }
 },
 "nbformat": 4,
 "nbformat_minor": 5
}
