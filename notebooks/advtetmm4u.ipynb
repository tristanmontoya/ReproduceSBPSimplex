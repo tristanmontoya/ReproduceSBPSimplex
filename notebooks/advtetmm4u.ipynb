{
 "cells": [
  {
   "cell_type": "code",
   "execution_count": 1,
   "id": "25f6aad1",
   "metadata": {},
   "outputs": [],
   "source": [
    "using TensorSimplexTests"
   ]
  },
  {
   "cell_type": "code",
   "execution_count": null,
   "id": "1835d89f",
   "metadata": {},
   "outputs": [],
   "source": []
  }
 ],
 "metadata": {
  "kernelspec": {
   "display_name": "Julia 1.8.5",
   "language": "julia",
   "name": "julia-1.8"
  },
  "language_info": {
   "file_extension": ".jl",
   "mimetype": "application/julia",
   "name": "julia",
   "version": "1.8.5"
  }
 },
 "nbformat": 4,
 "nbformat_minor": 5
}
