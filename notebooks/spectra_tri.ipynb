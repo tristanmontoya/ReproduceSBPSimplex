{
 "cells": [
  {
   "cell_type": "code",
   "execution_count": null,
   "id": "8846c285",
   "metadata": {},
   "outputs": [],
   "source": [
    "d =2 \n",
    "a = Tuple(1.0 for m in 1:d)\n",
    "L = 1.0\n",
    "A = 1.0  # amplitude\n",
    "L = 1.0  # domain length\n",
    "k = Tuple(2*π/L, 2*π/L)  # wave number\n",
    "conservation_law = LinearAdvectionEquation((a*cos(θ),a*sin(θ)))\n",
    "initial_data = InitialDataSine(A,k)"
   ]
  }
 ],
 "metadata": {
  "kernelspec": {
   "display_name": "Julia 1.8.5",
   "language": "julia",
   "name": "julia-1.8"
  },
  "language_info": {
   "file_extension": ".jl",
   "mimetype": "application/julia",
   "name": "julia",
   "version": "1.8.5"
  }
 },
 "nbformat": 4,
 "nbformat_minor": 5
}
