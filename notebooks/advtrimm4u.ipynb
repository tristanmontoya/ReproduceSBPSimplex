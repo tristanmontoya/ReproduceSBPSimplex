{
 "cells": [
  {
   "cell_type": "code",
   "execution_count": 1,
   "id": "25f6aad1",
   "metadata": {},
   "outputs": [],
   "source": [
    "using TensorSimplexTests"
   ]
  },
  {
   "cell_type": "code",
   "execution_count": 2,
   "id": "1835d89f",
   "metadata": {},
   "outputs": [
    {
     "ename": "LoadError",
     "evalue": "UndefVarError: trace_constant not defined",
     "output_type": "error",
     "traceback": [
      "UndefVarError: trace_constant not defined",
      "",
      "Stacktrace:",
      " [1] run_driver(driver::AdvectionDriver{2})",
      "   @ TensorSimplexTests ~/Research/TensorSimplexTests/src/advection_refinement.jl:131",
      " [2] top-level scope",
      "   @ In[2]:1"
     ]
    }
   ],
   "source": [
    "run_driver(AdvectionDriver(4, \n",
    "    l=3, C_t=0.05, n_s = 10, mesh_perturb = 0.05, M0 = 2, n_grids=2,\n",
    "    form = \"SplitConservationForm\", \n",
    "    mapping_form=\"SkewSymmetricMapping\",\n",
    "    scheme=\"NodalMulti\", element_type=\"Tri\"))"
   ]
  },
  {
   "cell_type": "code",
   "execution_count": null,
   "id": "348e5074",
   "metadata": {},
   "outputs": [],
   "source": []
  }
 ],
 "metadata": {
  "kernelspec": {
   "display_name": "Julia 1.8.5",
   "language": "julia",
   "name": "julia-1.8"
  },
  "language_info": {
   "file_extension": ".jl",
   "mimetype": "application/julia",
   "name": "julia",
   "version": "1.8.5"
  }
 },
 "nbformat": 4,
 "nbformat_minor": 5
}
